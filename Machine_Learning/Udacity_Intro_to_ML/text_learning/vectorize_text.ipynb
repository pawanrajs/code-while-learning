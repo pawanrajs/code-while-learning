{
 "cells": [
  {
   "cell_type": "code",
   "execution_count": 1,
   "source": [
    "# %load vectorize_text.py\r\n",
    "#!/usr/bin/python3\r\n",
    "\r\n",
    "import os\r\n",
    "import joblib\r\n",
    "import re\r\n",
    "import sys\r\n",
    "\r\n",
    "sys.path.append( \"../tools/\" )\r\n",
    "from parse_out_email_text import parseOutText\r\n",
    "\r\n",
    "\"\"\"\r\n",
    "    Starter code to process the emails from Sara and Chris to extract\r\n",
    "    the features and get the documents ready for classification.\r\n",
    "\r\n",
    "    The list of all the emails from Sara are in the from_sara list\r\n",
    "    likewise for emails from Chris (from_chris)\r\n",
    "\r\n",
    "    The actual documents are in the Enron email dataset, which\r\n",
    "    you downloaded/unpacked in Part 0 of the first mini-project. If you have\r\n",
    "    not obtained the Enron email corpus, run startup.py in the tools folder.\r\n",
    "\r\n",
    "    The data is stored in lists and packed away in pickle files at the end.\r\n",
    "\"\"\"\r\n",
    "\r\n",
    "\r\n",
    "from_sara  = open(\"from_sara.txt\", \"r\")\r\n",
    "from_chris = open(\"from_chris.txt\", \"r\")\r\n",
    "\r\n",
    "from_data = []\r\n",
    "word_data = []\r\n",
    "\r\n",
    "### temp_counter is a way to speed up the development--there are\r\n",
    "### thousands of emails from Sara and Chris, so running over all of them\r\n",
    "### can take a long time\r\n",
    "### temp_counter helps you only look at the first 200 emails in the list so you\r\n",
    "### can iterate your modifications quicker\r\n",
    "temp_counter = 0\r\n",
    "\r\n",
    "for name, from_person in [(\"sara\", from_sara), (\"chris\", from_chris)]:\r\n",
    "    for path in from_person:\r\n",
    "        ### only look at first 200 emails when developing\r\n",
    "        ### once everything is working, remove this line to run over full dataset\r\n",
    "        temp_counter += 1\r\n",
    "        # if temp_counter < 200:\r\n",
    "        path = os.path.join('..', \"tools\", path[:-1])\r\n",
    "        # print(path)\r\n",
    "        email = open(path, \"r\")\r\n",
    "        \r\n",
    "        ### use parseOutText to extract the text from the opened email\r\n",
    "        stemmed_email_text = parseOutText(email)\r\n",
    "\r\n",
    "\r\n",
    "        ### use str.replace() to remove any instances of the words\r\n",
    "        ### [\"sara\", \"shackleton\", \"chris\", \"germani\"]\r\n",
    "        for w in [\"sara\", \"shackleton\", \"chris\", \"germani\", \"cgermannsf\", \"sshacklensf\"]:\r\n",
    "            stemmed_email_text = stemmed_email_text.replace(w, \"\")\r\n",
    "        \r\n",
    "        ### append the text to word_data\r\n",
    "        word_data.append(stemmed_email_text)\r\n",
    "\r\n",
    "        ### append a 0 to from_data if email is from Sara, and 1 if email is from Chris\r\n",
    "        if name == \"sara\":\r\n",
    "            from_data.append(0)\r\n",
    "        if name == \"chris\":\r\n",
    "            from_data.append(1)\r\n",
    "        \r\n",
    "        email.close()\r\n",
    "\r\n",
    "print(\"{} Emails Processed\".format(temp_counter))\r\n",
    "from_sara.close()\r\n",
    "from_chris.close()\r\n",
    "\r\n",
    "joblib.dump( word_data, open(\"your_word_data.pkl\", \"wb\") )\r\n",
    "joblib.dump( from_data, open(\"your_email_authors.pkl\", \"wb\") )\r\n",
    "\r\n",
    "\r\n",
    "### in Part 4, do TfIdf vectorization here\r\n"
   ],
   "outputs": [
    {
     "output_type": "stream",
     "name": "stdout",
     "text": [
      "17578 Emails Processed\n"
     ]
    }
   ],
   "metadata": {}
  },
  {
   "cell_type": "code",
   "execution_count": 2,
   "source": [
    "print(word_data[152])"
   ],
   "outputs": [
    {
     "output_type": "stream",
     "name": "stdout",
     "text": [
      "tjonesnsf stephani and sam need nymex calendar\n"
     ]
    }
   ],
   "metadata": {}
  },
  {
   "cell_type": "code",
   "execution_count": 3,
   "source": [
    "# TF-IDF Vectorization\r\n",
    "from sklearn.feature_extraction.text import TfidfVectorizer\r\n",
    "\r\n",
    "vectorizer = TfidfVectorizer(stop_words=\"english\", lowercase=True)\r\n",
    "vectorizer.fit_transform(word_data)\r\n",
    "feature_names = vectorizer.get_feature_names()\r\n"
   ],
   "outputs": [],
   "metadata": {}
  },
  {
   "cell_type": "code",
   "execution_count": 4,
   "source": [
    "print(len(feature_names))"
   ],
   "outputs": [
    {
     "output_type": "stream",
     "name": "stdout",
     "text": [
      "38756\n"
     ]
    }
   ],
   "metadata": {}
  },
  {
   "cell_type": "code",
   "execution_count": 5,
   "source": [
    "# Note that actual answer is stephaniethank. Probably because stop_words have changed\r\n",
    "print(feature_names[34597])"
   ],
   "outputs": [
    {
     "output_type": "stream",
     "name": "stdout",
     "text": [
      "stephanlonect\n"
     ]
    }
   ],
   "metadata": {}
  },
  {
   "cell_type": "code",
   "execution_count": null,
   "source": [],
   "outputs": [],
   "metadata": {}
  }
 ],
 "metadata": {
  "orig_nbformat": 4,
  "language_info": {
   "name": "python",
   "version": "3.8.3",
   "mimetype": "text/x-python",
   "codemirror_mode": {
    "name": "ipython",
    "version": 3
   },
   "pygments_lexer": "ipython3",
   "nbconvert_exporter": "python",
   "file_extension": ".py"
  },
  "kernelspec": {
   "name": "python3",
   "display_name": "Python 3.8.3 64-bit ('.udacityml')"
  },
  "interpreter": {
   "hash": "a2d73c167f3de0bf816883dd1ae4d86285b5daa4d07776b66669f5cd19114848"
  }
 },
 "nbformat": 4,
 "nbformat_minor": 2
}