{
 "cells": [
  {
   "cell_type": "code",
   "execution_count": 1,
   "source": [
    "%matplotlib inline"
   ],
   "outputs": [],
   "metadata": {}
  },
  {
   "cell_type": "code",
   "execution_count": 2,
   "source": [
    "# %load validate_poi.py\r\n",
    "#!/usr/bin/python\r\n",
    "\r\n",
    "\r\n",
    "\"\"\"\r\n",
    "    Starter code for the validation mini-project.\r\n",
    "    The first step toward building your POI identifier!\r\n",
    "\r\n",
    "    Start by loading/formatting the data\r\n",
    "\r\n",
    "    After that, it's not our code anymore--it's yours!\r\n",
    "\"\"\"\r\n",
    "\r\n",
    "import pickle\r\n",
    "import sys\r\n",
    "sys.path.append(\"../tools/\")\r\n",
    "from feature_format import featureFormat, targetFeatureSplit\r\n",
    "\r\n",
    "data_dict = pickle.load(open(\"../final_project/final_project_dataset.pkl\", \"rb\") )\r\n",
    "\r\n",
    "### first element is our labels, any added elements are predictor\r\n",
    "### features. Keep this the same for the mini-project, but you'll\r\n",
    "### have a different feature list when you do the final project.\r\n",
    "features_list = [\"poi\", \"salary\"]\r\n",
    "\r\n",
    "data = featureFormat(data_dict, features_list, sort_keys = '../tools/python2_lesson13_keys.pkl')\r\n",
    "labels, features = targetFeatureSplit(data)\r\n",
    "\r\n",
    "\r\n",
    "\r\n",
    "### it's all yours from here forward!  \r\n",
    "\r\n",
    "\r\n"
   ],
   "outputs": [],
   "metadata": {}
  },
  {
   "cell_type": "code",
   "execution_count": 3,
   "source": [
    "# Create a decision tree classifier (just use the default parameters), train it on all the data\r\n",
    "from sklearn.tree import DecisionTreeClassifier\r\n",
    "\r\n",
    "clf = DecisionTreeClassifier()\r\n",
    "clf.fit(features, labels)\r\n",
    "clf.score(features, labels)"
   ],
   "outputs": [
    {
     "output_type": "execute_result",
     "data": {
      "text/plain": [
       "0.9894736842105263"
      ]
     },
     "metadata": {},
     "execution_count": 3
    }
   ],
   "metadata": {}
  },
  {
   "cell_type": "code",
   "execution_count": 4,
   "source": [
    "# Now you’ll add in training and testing, so that you get a trustworthy accuracy number. \r\n",
    "# Use the train_test_split validation; hold out 30% of the data for testing and set the random_state parameter to 42 \r\n",
    "# What’s your updated accuracy?\r\n",
    "from sklearn.model_selection import train_test_split\r\n",
    "features_train, features_test, labels_train, labels_test = train_test_split(\r\n",
    "    features, labels, test_size=0.3, random_state=42)\r\n",
    "\r\n",
    "clf_test_train = DecisionTreeClassifier()\r\n",
    "clf_test_train.fit(features_train, labels_train)\r\n",
    "print(\"Accuracy after test-train split: \", clf_test_train.score(features_test, labels_test))"
   ],
   "outputs": [
    {
     "output_type": "stream",
     "name": "stdout",
     "text": [
      "Accuracy after test-train split:  0.7241379310344828\n"
     ]
    }
   ],
   "metadata": {}
  },
  {
   "cell_type": "code",
   "execution_count": 5,
   "source": [
    "# How many POIs are predicted for the test set for your POI identifier?\r\n",
    "poi_prediction = clf_test_train.predict(features_test)\r\n",
    "\r\n",
    "import numpy as np\r\n",
    "print(np.count_nonzero(poi_prediction == 1))\r\n"
   ],
   "outputs": [
    {
     "output_type": "stream",
     "name": "stdout",
     "text": [
      "4\n"
     ]
    }
   ],
   "metadata": {}
  },
  {
   "cell_type": "code",
   "execution_count": 6,
   "source": [
    "# Look at the predictions of your model and compare them to the true test labels. Do you get any true positives? \r\n",
    "sum_of_true_positives = 0\r\n",
    "for p, l in zip(poi_prediction, labels_test):\r\n",
    "    if p == l == 1:\r\n",
    "        sum_of_true_positives += 1\r\n",
    "\r\n",
    "print(sum_of_true_positives)"
   ],
   "outputs": [
    {
     "output_type": "stream",
     "name": "stdout",
     "text": [
      "0\n"
     ]
    }
   ],
   "metadata": {}
  },
  {
   "cell_type": "code",
   "execution_count": 7,
   "source": [
    "### Having imbalanced classes introduces a challenge that guessing the common class label for every point, will still get pretty good accuracy!\r\n",
    "### Precision and recall can help illuminate your performance better. \r\n",
    "### Use the precision_score and recall_score available in sklearn.metrics to compute those quantities.\r\n",
    "\r\n",
    "from sklearn.metrics import precision_score, recall_score\r\n",
    "precision = precision_score(labels_test, poi_prediction)\r\n",
    "recall = recall_score(labels_test, poi_prediction)\r\n",
    "\r\n",
    "print(\"Precision: {}, Recall: {}\".format(precision, recall))"
   ],
   "outputs": [
    {
     "output_type": "stream",
     "name": "stdout",
     "text": [
      "Precision: 0.0, Recall: 0.0\n"
     ]
    }
   ],
   "metadata": {}
  },
  {
   "cell_type": "code",
   "execution_count": 8,
   "source": [
    "predictions = [0, 1, 1, 0, 0, 0, 1, 0, 1, 0, 0, 1, 0, 0, 1, 1, 0, 1, 0, 1]\r\n",
    "true_labels = [0, 0, 0, 0, 0, 0, 1, 0, 1, 1, 0, 1, 0, 1, 1, 1, 0, 1, 0, 0]\r\n",
    "\r\n",
    "# Find True Positives\r\n",
    "true_positives = [int(p == l) for p, l in zip(predictions, true_labels) if p == 1]\r\n",
    "print(sum(true_positives))\r\n"
   ],
   "outputs": [
    {
     "output_type": "stream",
     "name": "stdout",
     "text": [
      "6\n"
     ]
    }
   ],
   "metadata": {}
  },
  {
   "cell_type": "code",
   "execution_count": 11,
   "source": [
    "# Find True Negatives\r\n",
    "true_negatives = [int(p == l) for p, l in zip(predictions, true_labels) if p == 0]\r\n",
    "print(sum(true_negatives))"
   ],
   "outputs": [
    {
     "output_type": "stream",
     "name": "stdout",
     "text": [
      "9\n"
     ]
    }
   ],
   "metadata": {}
  },
  {
   "cell_type": "code",
   "execution_count": 12,
   "source": [
    "# Find False Positives\r\n",
    "print(sum([int(p != l) for p, l in zip(predictions, true_labels) if p == 1]))\r\n"
   ],
   "outputs": [
    {
     "output_type": "stream",
     "name": "stdout",
     "text": [
      "3\n"
     ]
    }
   ],
   "metadata": {}
  },
  {
   "cell_type": "code",
   "execution_count": 13,
   "source": [
    "# Find False Negatives\r\n",
    "print(sum([int(p != l) for p, l in zip(predictions, true_labels) if p == 0]))\r\n"
   ],
   "outputs": [
    {
     "output_type": "stream",
     "name": "stdout",
     "text": [
      "2\n"
     ]
    }
   ],
   "metadata": {}
  },
  {
   "cell_type": "code",
   "execution_count": 14,
   "source": [
    "# Find Precision and Recall\r\n",
    "print(\"Precision: \", 6/(6+3))\r\n",
    "print(\"Recall: \", 6/(6+2))"
   ],
   "outputs": [
    {
     "output_type": "stream",
     "name": "stdout",
     "text": [
      "Precision:  0.6666666666666666\n",
      "Recall:  0.75\n"
     ]
    }
   ],
   "metadata": {}
  },
  {
   "cell_type": "code",
   "execution_count": null,
   "source": [],
   "outputs": [],
   "metadata": {}
  }
 ],
 "metadata": {
  "orig_nbformat": 4,
  "language_info": {
   "name": "python",
   "version": "3.8.3",
   "mimetype": "text/x-python",
   "codemirror_mode": {
    "name": "ipython",
    "version": 3
   },
   "pygments_lexer": "ipython3",
   "nbconvert_exporter": "python",
   "file_extension": ".py"
  },
  "kernelspec": {
   "name": "python3",
   "display_name": "Python 3.8.3 64-bit ('.udacityml')"
  },
  "interpreter": {
   "hash": "a2d73c167f3de0bf816883dd1ae4d86285b5daa4d07776b66669f5cd19114848"
  }
 },
 "nbformat": 4,
 "nbformat_minor": 2
}