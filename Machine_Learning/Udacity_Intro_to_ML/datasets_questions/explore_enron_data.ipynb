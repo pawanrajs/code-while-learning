{
    "cells": [
        {
            "cell_type": "code",
            "execution_count": 1,
            "source": [
                "import joblib\r\n",
                "\r\n",
                "enron_data = joblib.load(open(\"../final_project/final_project_dataset.pkl\", \"rb\"))"
            ],
            "outputs": [],
            "metadata": {}
        },
        {
            "cell_type": "code",
            "execution_count": 2,
            "source": [
                "# Size of Enron Data Set\r\n",
                "print(\"Total Number of datapoints: \", len(enron_data))"
            ],
            "outputs": [
                {
                    "output_type": "stream",
                    "name": "stdout",
                    "text": [
                        "Total Number of datapoints:  146\n"
                    ]
                }
            ],
            "metadata": {}
        },
        {
            "cell_type": "code",
            "execution_count": 8,
            "source": [
                "# Number of features in enron Data-set\r\n",
                "print(len(list(enron_data.values())[0]))"
            ],
            "outputs": [
                {
                    "output_type": "stream",
                    "name": "stdout",
                    "text": [
                        "21\n"
                    ]
                }
            ],
            "metadata": {}
        },
        {
            "cell_type": "code",
            "execution_count": 13,
            "source": [
                "# How many POIs are there in the E+F dataset? (\"poi\": True)\r\n",
                "print(len([k for k in enron_data.keys() if enron_data[k]['poi']]))"
            ],
            "outputs": [
                {
                    "output_type": "stream",
                    "name": "stdout",
                    "text": [
                        "18\n"
                    ]
                }
            ],
            "metadata": {}
        },
        {
            "cell_type": "code",
            "execution_count": 15,
            "source": [
                "# What is the total value of the stock belonging to James Prentice?\r\n",
                "print(enron_data[\"PRENTICE JAMES\"][\"total_stock_value\"])\r\n"
            ],
            "outputs": [
                {
                    "output_type": "stream",
                    "name": "stdout",
                    "text": [
                        "1095040\n"
                    ]
                }
            ],
            "metadata": {}
        },
        {
            "cell_type": "code",
            "execution_count": 17,
            "source": [
                "# How many email messages do we have from Wesley Colwell to persons of interest?\r\n",
                "print(enron_data[\"COLWELL WESLEY\"][\"from_this_person_to_poi\"])"
            ],
            "outputs": [
                {
                    "output_type": "stream",
                    "name": "stdout",
                    "text": [
                        "11\n"
                    ]
                }
            ],
            "metadata": {}
        },
        {
            "cell_type": "code",
            "execution_count": 19,
            "source": [
                "# What’s the value of stock options exercised by Jeffrey K Skilling?\r\n",
                "print(enron_data[\"SKILLING JEFFREY K\"]['exercised_stock_options'])"
            ],
            "outputs": [
                {
                    "output_type": "stream",
                    "name": "stdout",
                    "text": [
                        "19250000\n"
                    ]
                }
            ],
            "metadata": {}
        },
        {
            "cell_type": "code",
            "execution_count": 50,
            "source": [
                "total_payments = [enron_data[k][\"total_payments\"] for k in enron_data.keys() \\\r\n",
                "    if enron_data[k]['total_payments'] != 'NaN' and k != 'TOTAL']\r\n",
                "print([(k, enron_data[k]['total_payments']) for k in enron_data.keys() if (enron_data[k]['total_payments'] == max(total_payments))])"
            ],
            "outputs": [
                {
                    "output_type": "stream",
                    "name": "stdout",
                    "text": [
                        "8682716\n",
                        "[('LAY KENNETH L', 103559793)]\n"
                    ]
                }
            ],
            "metadata": {}
        },
        {
            "cell_type": "code",
            "execution_count": 52,
            "source": [
                "# How many folks in this dataset have a quantified salary? What about a known email address?\r\n",
                "print(len([k for k in enron_data.keys() if enron_data[k]['salary'] != 'NaN']))\r\n",
                "print(len([k for k in enron_data.keys() if enron_data[k]['email_address'] != 'NaN']))"
            ],
            "outputs": [
                {
                    "output_type": "stream",
                    "name": "stdout",
                    "text": [
                        "95\n",
                        "111\n"
                    ]
                }
            ],
            "metadata": {}
        },
        {
            "cell_type": "code",
            "execution_count": 54,
            "source": [
                "# How many people in the E+F dataset have “NaN” for their total payments? \r\n",
                "print(len([k for k in enron_data.keys() if enron_data[k]['total_payments'] == 'NaN']))\r\n",
                "# What percentage of people in the dataset as a whole is this?\r\n",
                "print(21/len(enron_data))\r\n"
            ],
            "outputs": [
                {
                    "output_type": "stream",
                    "name": "stdout",
                    "text": [
                        "21\n",
                        "0.14383561643835616\n"
                    ]
                }
            ],
            "metadata": {}
        },
        {
            "cell_type": "code",
            "execution_count": 62,
            "source": [
                "# How many POIs in the E+F dataset have “NaN” for their total payments? What percentage of POI’s as a whole is this?\r\n",
                "pois_in_set = [k for k in enron_data.keys() if enron_data[k]['total_payments'] == 'NaN' and enron_data[k]['poi']]\r\n",
                "print(len(pois_in_set))\r\n",
                "\r\n",
                "\r\n",
                "# with open(\"../final_project/poi_names.txt\", \"r\") as poi_file:\r\n",
                "#     pois = [poi.strip() for poi in poi_file.readlines()][2:]\r\n",
                "# number_of_pois = len(pois)\r\n",
                "# print(number_of_pois)\r\n"
            ],
            "outputs": [
                {
                    "output_type": "stream",
                    "name": "stdout",
                    "text": [
                        "35\n",
                        "0\n"
                    ]
                }
            ],
            "metadata": {}
        },
        {
            "cell_type": "code",
            "execution_count": null,
            "source": [],
            "outputs": [],
            "metadata": {}
        }
    ],
    "metadata": {
        "orig_nbformat": 4,
        "language_info": {
            "name": "python",
            "version": "3.7.3",
            "mimetype": "text/x-python",
            "codemirror_mode": {
                "name": "ipython",
                "version": 3
            },
            "pygments_lexer": "ipython3",
            "nbconvert_exporter": "python",
            "file_extension": ".py"
        },
        "kernelspec": {
            "name": "python3",
            "display_name": "Python 3.7.3 64-bit (conda)"
        },
        "interpreter": {
            "hash": "eb00f7b0eb8c4239afa3e7cd48ac3a5d4db545688c8f4e3df7d0bcfa7fb11cc2"
        }
    },
    "nbformat": 4,
    "nbformat_minor": 2
}