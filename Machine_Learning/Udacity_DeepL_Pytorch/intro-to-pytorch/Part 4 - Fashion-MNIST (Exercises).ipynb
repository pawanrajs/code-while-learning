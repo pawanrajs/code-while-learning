{
 "cells": [
  {
   "cell_type": "markdown",
   "source": [
    "# Classifying Fashion-MNIST\r\n",
    "\r\n",
    "Now it's your turn to build and train a neural network. You'll be using the [Fashion-MNIST dataset](https://github.com/zalandoresearch/fashion-mnist), a drop-in replacement for the MNIST dataset. MNIST is actually quite trivial with neural networks where you can easily achieve better than 97% accuracy. Fashion-MNIST is a set of 28x28 greyscale images of clothes. It's more complex than MNIST, so it's a better representation of the actual performance of your network, and a better representation of datasets you'll use in the real world.\r\n",
    "\r\n",
    "<img src='assets/fashion-mnist-sprite.png' width=500px>\r\n",
    "\r\n",
    "In this notebook, you'll build your own neural network. For the most part, you could just copy and paste the code from Part 3, but you wouldn't be learning. It's important for you to write the code yourself and get it to work. Feel free to consult the previous notebooks though as you work through this.\r\n",
    "\r\n",
    "First off, let's load the dataset through torchvision."
   ],
   "metadata": {}
  },
  {
   "cell_type": "code",
   "execution_count": 33,
   "source": [
    "import torch\r\n",
    "from torchvision import datasets, transforms\r\n",
    "import helper\r\n",
    "\r\n",
    "# Define a transform to normalize the data\r\n",
    "transform = transforms.Compose([transforms.ToTensor(),\r\n",
    "                                transforms.Normalize((0.5,), (0.5,))])\r\n",
    "# Download and load the training data\r\n",
    "trainset = datasets.FashionMNIST('~/.pytorch/F_MNIST_data/', download=True, train=True, transform=transform)\r\n",
    "trainloader = torch.utils.data.DataLoader(trainset, batch_size=64, shuffle=True)\r\n",
    "\r\n",
    "# Download and load the test data\r\n",
    "testset = datasets.FashionMNIST('~/.pytorch/F_MNIST_data/', download=True, train=False, transform=transform)\r\n",
    "testloader = torch.utils.data.DataLoader(testset, batch_size=64, shuffle=True)"
   ],
   "outputs": [],
   "metadata": {}
  },
  {
   "cell_type": "markdown",
   "source": [
    "Here we can see one of the images."
   ],
   "metadata": {}
  },
  {
   "cell_type": "code",
   "execution_count": 34,
   "source": [
    "image, label = next(iter(trainloader))\r\n",
    "helper.imshow(image[0,:]);"
   ],
   "outputs": [
    {
     "output_type": "display_data",
     "data": {
      "text/plain": [
       "<Figure size 432x288 with 1 Axes>"
      ],
      "image/svg+xml": "<?xml version=\"1.0\" encoding=\"utf-8\" standalone=\"no\"?>\r\n<!DOCTYPE svg PUBLIC \"-//W3C//DTD SVG 1.1//EN\"\r\n  \"http://www.w3.org/Graphics/SVG/1.1/DTD/svg11.dtd\">\r\n<svg height=\"231.84pt\" version=\"1.1\" viewBox=\"0 0 231.84 231.84\" width=\"231.84pt\" xmlns=\"http://www.w3.org/2000/svg\" xmlns:xlink=\"http://www.w3.org/1999/xlink\">\r\n <metadata>\r\n  <rdf:RDF xmlns:cc=\"http://creativecommons.org/ns#\" xmlns:dc=\"http://purl.org/dc/elements/1.1/\" xmlns:rdf=\"http://www.w3.org/1999/02/22-rdf-syntax-ns#\">\r\n   <cc:Work>\r\n    <dc:type rdf:resource=\"http://purl.org/dc/dcmitype/StillImage\"/>\r\n    <dc:date>2021-09-06T17:49:16.953480</dc:date>\r\n    <dc:format>image/svg+xml</dc:format>\r\n    <dc:creator>\r\n     <cc:Agent>\r\n      <dc:title>Matplotlib v3.4.3, https://matplotlib.org/</dc:title>\r\n     </cc:Agent>\r\n    </dc:creator>\r\n   </cc:Work>\r\n  </rdf:RDF>\r\n </metadata>\r\n <defs>\r\n  <style type=\"text/css\">*{stroke-linecap:butt;stroke-linejoin:round;}</style>\r\n </defs>\r\n <g id=\"figure_1\">\r\n  <g id=\"patch_1\">\r\n   <path d=\"M 0 231.84 \r\nL 231.84 231.84 \r\nL 231.84 0 \r\nL 0 0 \r\nz\r\n\" style=\"fill:none;\"/>\r\n  </g>\r\n  <g id=\"axes_1\">\r\n   <g id=\"patch_2\">\r\n    <path d=\"M 7.2 224.64 \r\nL 224.64 224.64 \r\nL 224.64 7.2 \r\nL 7.2 7.2 \r\nz\r\n\" style=\"fill:#ffffff;\"/>\r\n   </g>\r\n   <g clip-path=\"url(#p418db75bcf)\">\r\n    <image height=\"218\" id=\"imaged2138d3eb3\" transform=\"scale(1 -1)translate(0 -218)\" width=\"218\" x=\"7.2\" xlink:href=\"data:image/png;base64,\r\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\" y=\"-6.64\"/>\r\n   </g>\r\n   <g id=\"matplotlib.axis_1\">\r\n    <g id=\"xtick_1\">\r\n     <g id=\"line2d_1\"/>\r\n    </g>\r\n    <g id=\"xtick_2\">\r\n     <g id=\"line2d_2\"/>\r\n    </g>\r\n    <g id=\"xtick_3\">\r\n     <g id=\"line2d_3\"/>\r\n    </g>\r\n    <g id=\"xtick_4\">\r\n     <g id=\"line2d_4\"/>\r\n    </g>\r\n    <g id=\"xtick_5\">\r\n     <g id=\"line2d_5\"/>\r\n    </g>\r\n    <g id=\"xtick_6\">\r\n     <g id=\"line2d_6\"/>\r\n    </g>\r\n   </g>\r\n   <g id=\"matplotlib.axis_2\">\r\n    <g id=\"ytick_1\">\r\n     <g id=\"line2d_7\"/>\r\n    </g>\r\n    <g id=\"ytick_2\">\r\n     <g id=\"line2d_8\"/>\r\n    </g>\r\n    <g id=\"ytick_3\">\r\n     <g id=\"line2d_9\"/>\r\n    </g>\r\n    <g id=\"ytick_4\">\r\n     <g id=\"line2d_10\"/>\r\n    </g>\r\n    <g id=\"ytick_5\">\r\n     <g id=\"line2d_11\"/>\r\n    </g>\r\n    <g id=\"ytick_6\">\r\n     <g id=\"line2d_12\"/>\r\n    </g>\r\n   </g>\r\n  </g>\r\n </g>\r\n <defs>\r\n  <clipPath id=\"p418db75bcf\">\r\n   <rect height=\"217.44\" width=\"217.44\" x=\"7.2\" y=\"7.2\"/>\r\n  </clipPath>\r\n </defs>\r\n</svg>\r\n",
      "image/png": "[encoded data removed]"
     },
     "metadata": {
      "needs_background": "light"
     }
    }
   ],
   "metadata": {}
  },
  {
   "cell_type": "markdown",
   "source": [
    "## Building the network\n",
    "\n",
    "Here you should define your network. As with MNIST, each image is 28x28 which is a total of 784 pixels, and there are 10 classes. You should include at least one hidden layer. We suggest you use ReLU activations for the layers and to return the logits or log-softmax from the forward pass. It's up to you how many layers you add and the size of those layers."
   ],
   "metadata": {}
  },
  {
   "cell_type": "code",
   "execution_count": 35,
   "source": [
    "# TODO: Define your network architecture here\r\n",
    "from torch import nn\r\n",
    "model = nn.Sequential(\r\n",
    "    nn.Linear(784, 256), nn.ReLU(),\r\n",
    "    nn.Linear(256, 128), nn.ReLU(),\r\n",
    "    nn.Linear(128, 64), nn.ReLU(),\r\n",
    "    nn.Linear(64, 10), nn.LogSoftmax(dim=1)\r\n",
    ")\r\n"
   ],
   "outputs": [],
   "metadata": {}
  },
  {
   "cell_type": "markdown",
   "source": [
    "# Train the network\n",
    "\n",
    "Now you should create your network and train it. First you'll want to define [the criterion](http://pytorch.org/docs/master/nn.html#loss-functions) ( something like `nn.CrossEntropyLoss`) and [the optimizer](http://pytorch.org/docs/master/optim.html) (typically `optim.SGD` or `optim.Adam`).\n",
    "\n",
    "Then write the training code. Remember the training pass is a fairly straightforward process:\n",
    "\n",
    "* Make a forward pass through the network to get the logits \n",
    "* Use the logits to calculate the loss\n",
    "* Perform a backward pass through the network with `loss.backward()` to calculate the gradients\n",
    "* Take a step with the optimizer to update the weights\n",
    "\n",
    "By adjusting the hyperparameters (hidden units, learning rate, etc), you should be able to get the training loss below 0.4."
   ],
   "metadata": {}
  },
  {
   "cell_type": "code",
   "execution_count": 36,
   "source": [
    "# TODO: Create the network, define the criterion and optimizer\r\n",
    "\r\n",
    "# Loss function\r\n",
    "criterion = nn.CrossEntropyLoss()\r\n",
    "\r\n",
    "# Optimizer\r\n",
    "from torch import optim\r\n",
    "optimizer = optim.SGD(model.parameters(), lr=0.006)"
   ],
   "outputs": [],
   "metadata": {}
  },
  {
   "cell_type": "code",
   "execution_count": 37,
   "source": [
    "print(len(trainloader))"
   ],
   "outputs": [
    {
     "output_type": "stream",
     "name": "stdout",
     "text": [
      "938\n"
     ]
    }
   ],
   "metadata": {}
  },
  {
   "cell_type": "code",
   "execution_count": 38,
   "source": [
    "# TODO: Train the network here\r\n",
    "epochs = 7\r\n",
    "for e in range(epochs):\r\n",
    "    running_loss = 0\r\n",
    "    for images, labels in trainloader:\r\n",
    "\r\n",
    "        # Flatten image\r\n",
    "        images = images.view(images.shape[0], -1)\r\n",
    "\r\n",
    "        # run an image through model\r\n",
    "        output = model(images)\r\n",
    "\r\n",
    "        # calculate loss\r\n",
    "        loss = criterion(output, labels)\r\n",
    "\r\n",
    "        # backpropagation\r\n",
    "        optimizer.zero_grad()\r\n",
    "        loss.backward()\r\n",
    "        optimizer.step()\r\n",
    "\r\n",
    "        running_loss += loss.item()\r\n",
    "    else:\r\n",
    "        print(\"Running Loss: {}\".format(running_loss/len(trainloader)))\r\n"
   ],
   "outputs": [
    {
     "output_type": "stream",
     "name": "stdout",
     "text": [
      "Running Loss: 1.6557762480493803\n",
      "Running Loss: 0.749757187452906\n",
      "Running Loss: 0.6069704374270652\n",
      "Running Loss: 0.5463890921967879\n",
      "Running Loss: 0.5035876394398431\n",
      "Running Loss: 0.47218916358660534\n",
      "Running Loss: 0.44982874522140537\n"
     ]
    }
   ],
   "metadata": {}
  },
  {
   "cell_type": "code",
   "execution_count": null,
   "source": [
    "%matplotlib inline\r\n",
    "%config InlineBackend.figure_format = 'retina'\r\n",
    "\r\n",
    "import helper\r\n",
    "\r\n",
    "# Test out your network!\r\n",
    "\r\n",
    "dataiter = iter(testloader)\r\n",
    "images, labels = dataiter.next()\r\n",
    "img = images[0]\r\n",
    "# Convert 2D image to 1D vector\r\n",
    "img = img.resize_(1, 784)\r\n",
    "\r\n",
    "# TODO: Calculate the class probabilities (softmax) for img\r\n",
    "with torch.no_grad():\r\n",
    "    logps = model(img)\r\n",
    "\r\n",
    "ps = torch.exp(logps)\r\n",
    "\r\n",
    "# Plot the image and probabilities\r\n",
    "helper.view_classify(img.resize_(1, 28, 28), ps, version='Fashion')"
   ],
   "outputs": [],
   "metadata": {}
  }
 ],
 "metadata": {
  "kernelspec": {
   "name": "python3",
   "display_name": "Python 3.8.3 64-bit ('.dlpytorch')"
  },
  "language_info": {
   "codemirror_mode": {
    "name": "ipython",
    "version": 3
   },
   "file_extension": ".py",
   "mimetype": "text/x-python",
   "name": "python",
   "nbconvert_exporter": "python",
   "pygments_lexer": "ipython3",
   "version": "3.8.3"
  },
  "interpreter": {
   "hash": "fa90f1c172830addd5ede30ae215167f3baa9b7aee10dd2fd1f525da6f8ed9c5"
  }
 },
 "nbformat": 4,
 "nbformat_minor": 2
}